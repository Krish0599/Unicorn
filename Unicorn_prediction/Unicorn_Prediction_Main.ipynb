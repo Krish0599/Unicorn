{
 "cells": [
  {
   "cell_type": "code",
   "execution_count": 3,
   "metadata": {},
   "outputs": [],
   "source": [
    "import os\n",
    "from bs4 import BeautifulSoup\n",
    "import csv\n",
    "import statistics\n",
    "from sklearn.metrics.pairwise import cosine_similarity\n",
    "from sklearn.preprocessing import binarize\n",
    "import numpy as np\n",
    "import datetime\n",
    "from dateutil.relativedelta import relativedelta\n",
    "import math"
   ]
  },
  {
   "cell_type": "markdown",
   "metadata": {},
   "source": [
    "## Data cleaning"
   ]
  },
  {
   "cell_type": "markdown",
   "metadata": {},
   "source": [
    "### Removing data with missing values"
   ]
  },
  {
   "cell_type": "code",
   "execution_count": 176,
   "metadata": {},
   "outputs": [],
   "source": [
    "with open('D:\\\\cmpe256\\\\Team project\\\\startups6.csv','r') as file1:\n",
    "    reader = csv.reader(file1)\n",
    "    reader.__next__()\n",
    "    with open('D:\\\\cmpe256\\\\Team project\\\\startups5.csv','w',newline=\"\") as file2:\n",
    "        writer = csv.writer(file2)\n",
    "        writer.writerow(['Name','Start date','Funding','Categories','Number of Articles'])        \n",
    "        for row in reader:\n",
    "            if not row[1].strip():\n",
    "                continue\n",
    "            if row[2] == '':\n",
    "                continue\n",
    "            if row[3] == '':\n",
    "                continue\n",
    "            if row[4] == '':\n",
    "                continue\n",
    "            writer.writerow(row)\n",
    "    file2.close()\n",
    "file1.close()"
   ]
  },
  {
   "cell_type": "code",
   "execution_count": 4,
   "metadata": {},
   "outputs": [],
   "source": [
    "categories = []\n",
    "article_cnt = []\n",
    "investments = []\n",
    "founding_dates = []\n",
    "names = []\n",
    "with open('D:\\\\cmpe256\\\\Team project\\\\startups5.csv','r') as file1:\n",
    "    reader = csv.reader(file1)\n",
    "    reader.__next__()\n",
    "    for row in reader:\n",
    "        categories.append(row[3].split(','))\n",
    "        names.append(row[0])\n",
    "        article_cnt.append(row[4])\n",
    "        investments.append(row[2])\n",
    "        founding_dates.append(row[1])\n",
    "file1.close()"
   ]
  },
  {
   "cell_type": "markdown",
   "metadata": {},
   "source": [
    "## Attributes"
   ]
  },
  {
   "cell_type": "markdown",
   "metadata": {},
   "source": [
    "### Categories"
   ]
  },
  {
   "cell_type": "code",
   "execution_count": 5,
   "metadata": {},
   "outputs": [],
   "source": [
    "for category in categories:\n",
    "    for i,name in enumerate(category):\n",
    "        category[i] = name.strip().replace(' ','_').replace('-','_')"
   ]
  },
  {
   "cell_type": "markdown",
   "metadata": {},
   "source": [
    "### Time"
   ]
  },
  {
   "cell_type": "code",
   "execution_count": 6,
   "metadata": {},
   "outputs": [],
   "source": [
    "for i,fdate in enumerate(founding_dates):\n",
    "    fdate = fdate.strip()\n",
    "    founding_dates[i] = fdate"
   ]
  },
  {
   "cell_type": "markdown",
   "metadata": {},
   "source": [
    "### Popularity"
   ]
  },
  {
   "cell_type": "code",
   "execution_count": 7,
   "metadata": {},
   "outputs": [],
   "source": [
    "for i,article in enumerate(article_cnt):\n",
    "    article = article.strip()\n",
    "    article = article.replace(\",\",\"\")\n",
    "    article_cnt[i] = article"
   ]
  },
  {
   "cell_type": "markdown",
   "metadata": {},
   "source": [
    "### Investment amount"
   ]
  },
  {
   "cell_type": "code",
   "execution_count": 8,
   "metadata": {},
   "outputs": [],
   "source": [
    "for i,money in enumerate(investments):\n",
    "    money = money.replace('$','')\n",
    "    money = money.replace(',','')\n",
    "    investments[i] = money"
   ]
  },
  {
   "cell_type": "markdown",
   "metadata": {},
   "source": [
    "## Data preprocessing"
   ]
  },
  {
   "cell_type": "markdown",
   "metadata": {},
   "source": [
    "### Categories"
   ]
  },
  {
   "cell_type": "code",
   "execution_count": 9,
   "metadata": {},
   "outputs": [],
   "source": [
    "def generate_corpus(categories):\n",
    "    corpus = []\n",
    "    for category in categories:\n",
    "        doc = \"\"\n",
    "        for name in category:\n",
    "            doc = doc + name + \" \"\n",
    "        corpus.append(doc.strip())\n",
    "    return corpus\n",
    "\n",
    "SMOOTHING = 25\n",
    "def cosine(X):\n",
    "    return cosine_similarity(X)\n",
    "\n",
    "def cosine_smooth(X):\n",
    "    similarity_matrix = cosine_similarity(X)\n",
    "    i = 0\n",
    "    while(i<X.shape[0]):\n",
    "        j = 0\n",
    "        while(j<X.shape[0]):\n",
    "            overlap = np.dot(binarize(X.todense()[i]), binarize(X.todense()[j]).T)[0, 0]\n",
    "            similarity_matrix[i][j] *= (overlap/(overlap + SMOOTHING))\n",
    "            j+=1\n",
    "        i+=1\n",
    "    return similarity_matrix"
   ]
  },
  {
   "cell_type": "code",
   "execution_count": 10,
   "metadata": {},
   "outputs": [],
   "source": [
    "from sklearn.feature_extraction.text import TfidfVectorizer\n",
    "corpus = generate_corpus(categories)\n",
    "vectorizer = TfidfVectorizer(norm=None)\n",
    "X = vectorizer.fit_transform(corpus)"
   ]
  },
  {
   "cell_type": "code",
   "execution_count": 11,
   "metadata": {},
   "outputs": [],
   "source": [
    "similarity_matrix = cosine(X)\n",
    "similarity_matrix = similarity_matrix.tolist()\n",
    "\n",
    "i=0\n",
    "for sim in similarity_matrix:\n",
    "    del sim[i]\n",
    "    i+=1\n",
    "similarity_matrix = np.array(similarity_matrix)\n",
    "\n",
    "similarity_index = []\n",
    "for sim in similarity_matrix:\n",
    "    similarity_index.append(statistics.mean(sim))"
   ]
  },
  {
   "cell_type": "markdown",
   "metadata": {},
   "source": [
    "### Time"
   ]
  },
  {
   "cell_type": "code",
   "execution_count": 12,
   "metadata": {},
   "outputs": [],
   "source": [
    "month_map = {'jan':1,\n",
    "            'feb':2,\n",
    "            'mar':3,\n",
    "            'apr':4,\n",
    "            'may':5,\n",
    "            'jun':6,\n",
    "            'jul':7,\n",
    "            'aug':8,\n",
    "            'sep':9,\n",
    "            'oct':10,\n",
    "            'nov':11,\n",
    "            'dec':12}"
   ]
  },
  {
   "cell_type": "code",
   "execution_count": 13,
   "metadata": {
    "scrolled": false
   },
   "outputs": [],
   "source": [
    "now = datetime.datetime.now()\n",
    "duration = []\n",
    "for sdate in founding_dates:\n",
    "    day = 1\n",
    "    month = 1\n",
    "    if len(sdate) > 4:\n",
    "        month = month_map[sdate[:3].lower()]\n",
    "        year = sdate[-4:]\n",
    "    else:\n",
    "        year = sdate\n",
    "            \n",
    "    startdate = datetime.datetime(int(year),int(month),int(day),0,0,0,0)\n",
    "    difference = relativedelta(now,startdate)\n",
    "    duration.append(difference.years) "
   ]
  },
  {
   "cell_type": "markdown",
   "metadata": {},
   "source": [
    "### Popularity"
   ]
  },
  {
   "cell_type": "code",
   "execution_count": 14,
   "metadata": {},
   "outputs": [],
   "source": [
    "popularity_score = []\n",
    "for count,years in zip(article_cnt,duration):\n",
    "    rate = float(count)/float(years)\n",
    "    popularity_score.append(rate*0.6 + float(count)*0.4)"
   ]
  },
  {
   "cell_type": "markdown",
   "metadata": {},
   "source": [
    "### Investment Amount"
   ]
  },
  {
   "cell_type": "code",
   "execution_count": 15,
   "metadata": {},
   "outputs": [],
   "source": [
    "number_map = {'K':1000,\n",
    "             'M':1000000,\n",
    "             'B':1000000000}\n",
    "for i,money in enumerate(investments):\n",
    "    money = float(money[:-1]) * number_map[money[-1:]]\n",
    "    investments[i] = money"
   ]
  },
  {
   "cell_type": "code",
   "execution_count": 16,
   "metadata": {},
   "outputs": [],
   "source": [
    "decay_rate = 0.1\n",
    "i = 0\n",
    "for money,years in zip(investments,duration):\n",
    "    new_money = int(money)*math.exp(-decay_rate * years)\n",
    "    investments[i] = new_money\n",
    "    i+=1"
   ]
  },
  {
   "cell_type": "markdown",
   "metadata": {},
   "source": [
    "## Feature scaling"
   ]
  },
  {
   "cell_type": "code",
   "execution_count": 17,
   "metadata": {},
   "outputs": [],
   "source": [
    "dataset = []\n",
    "for i in range(len(names)):\n",
    "    dataset.append([similarity_index[i],popularity_score[i],investments[i]])"
   ]
  },
  {
   "cell_type": "code",
   "execution_count": 18,
   "metadata": {},
   "outputs": [],
   "source": [
    "from sklearn.preprocessing import MinMaxScaler\n",
    "scaler = MinMaxScaler(feature_range=(1,10))\n",
    "scaler.fit(dataset)\n",
    "scaled_data = scaler.transform(dataset)"
   ]
  },
  {
   "cell_type": "markdown",
   "metadata": {},
   "source": [
    "## Data modeling (Prediction)"
   ]
  },
  {
   "cell_type": "code",
   "execution_count": 19,
   "metadata": {},
   "outputs": [],
   "source": [
    "result_list = []\n",
    "for name,data in zip(names,scaled_data):\n",
    "    score = (data[1]*data[2]) / data[0]\n",
    "    result_list.append([name,score])"
   ]
  },
  {
   "cell_type": "code",
   "execution_count": 20,
   "metadata": {},
   "outputs": [],
   "source": [
    "existing_unicorns = []\n",
    "with open('D:\\\\cmpe256\\\\Team project\\\\unicorns.csv','r') as file1:\n",
    "    reader1 = csv.reader(file1)\n",
    "    reader1.__next__()\n",
    "    for row in reader1:\n",
    "        existing_unicorns.append(row[0])\n",
    "file1.close()"
   ]
  },
  {
   "cell_type": "code",
   "execution_count": 21,
   "metadata": {},
   "outputs": [
    {
     "name": "stdout",
     "output_type": "stream",
     "text": [
      "137\n",
      "128\n"
     ]
    }
   ],
   "source": [
    "print(len(result_list))\n",
    "for row in result_list:\n",
    "    if row[0] in existing_unicorns:\n",
    "        result_list.remove(row)\n",
    "print(len(result_list))"
   ]
  },
  {
   "cell_type": "code",
   "execution_count": 22,
   "metadata": {},
   "outputs": [
    {
     "name": "stdout",
     "output_type": "stream",
     "text": [
      "[['STILT', 1.008625959571221], ['MaestroQA', 0.8038436766921764], ['Medium', 0.7735594160440766], ['SolveBio', 0.704387005560632], ['Chai', 0.7006141491943867], ['SupplyFrame', 0.6781731402064519], ['Blokable', 0.6498224217121641], ['Crunchyroll', 0.618465486880035], ['Bright', 0.6151271611470442], ['Zymergen', 0.6026639897023525], ['Maestro', 0.5782705556084141], ['Formlabs', 0.5678443891554801], ['TransferWise', 0.5555708918640171], ['ID.me', 0.48666768728450815], ['Tinder', 0.4677954525403571], ['Retention Science', 0.4516399094225045], ['Blockstream', 0.4492432073700591], ['Hologram', 0.44801188250724], ['ClassDojo', 0.4237461701771803], ['Hammerhead', 0.42239534270557894], ['Mason', 0.41975722051741976], ['Nearpod', 0.4095030241416303], ['PeerStreet', 0.4010420724037284], ['Shyp', 0.3855010690335202], ['Munchery', 0.38046656109049826], ['Drop', 0.37600837505891765], ['Blockstack', 0.3716287918291885], ['Breather', 0.35292252396733587], ['Mark43', 0.34570879188825704], ['Metromile', 0.3390738364737345], ['StyleSeat', 0.33589635408309587], ['Popular Pays', 0.33553804830847156], ['Airware', 0.3226813815101765], ['Designlab', 0.3203820465316423], ['Outline', 0.31931573368995064], ['Clutch Prep', 0.3188081394110437], ['Sprig', 0.31282097956886823], ['Catchafire', 0.3072210948333281], ['FocusMotion', 0.3071101040674064], ['Poll Everywhere', 0.3055943744748229], ['UpOut', 0.3031388393941597], ['DuckDuckGo', 0.2966476362505473], ['uBiome', 0.29600903725259337], ['Parachute Home', 0.28632577784854213], ['Upcall', 0.2760408586527485], ['Handle', 0.26786890537153696], ['Binded', 0.26614317204243787], ['MightyText', 0.2651788659315661], ['Brandwatch', 0.2650303460743939], ['vidIQ', 0.26404449208421865], ['EVERFI', 0.2617867181490578], ['Philz Coffee', 0.26051672369341955], ['Fooda', 0.25993207374534905], ['SketchDeck', 0.2596448014049627], ['Zanbato', 0.25407727149518183], ['Accredible', 0.2531876806835692], ['Arthena', 0.2508382921276156], ['Rise', 0.24950548948284165], ['xendit', 0.24457254417474114], ['AptDeco', 0.24370852701862303], ['Soothe', 0.2425837495718645], ['dataxu', 0.24090745220655088], ['Ripple', 0.23941344413968726], ['Unified', 0.23828881087708334], ['SmartRecruiters', 0.2373071104886847], ['Yext', 0.2352976042480174], ['Lark', 0.2327393264212922], ['Phunware, Inc.', 0.2313013731773826], ['ZeroCater', 0.22752766959918663], ['Splitwise', 0.22734009015678533], ['GAIN Fitness', 0.22588766886462927], ['Joist', 0.22445292476545822], ['UnifyID', 0.2230718988246219], ['Skillshare', 0.22177996208541206], ['StackShare', 0.22012458130643625], ['Winc', 0.2186024642459337], ['Dealflicks', 0.20987468640653928], ['SalesLoft', 0.20845572286202677], ['Shippo', 0.20429411123062843], ['Sunshine', 0.20165234901277265], ['App Annie', 0.20138673992454156], ['OneSignal', 0.19940049233132512], ['Cover', 0.19574356140342886], ['ThirdLove', 0.19454765720099582], ['Chewse', 0.1928272082222009], ['Checkbook', 0.19166572081543523], ['CARD.com', 0.19004554677797308], ['Striiv', 0.18888237106261188], ['Gainsight', 0.18806871416737958], ['ALOHA', 0.18805961615000816], ['Converge', 0.18780090092493038], ['Salsify', 0.1868628485295267], ['Nitrous', 0.1862116727806795], ['Hint Health', 0.18599398331204545], ['Onfleet', 0.18304713165775024], ['Sensor Tower', 0.1812572136204115], ['The Ticket Fairy', 0.17988516263633106], ['Trulioo', 0.17801518018387089], ['Fieldwire', 0.17735977812448908], ['Trackin', 0.17534652505537177], ['Goldbelly', 0.1753423599201299], ['Intercom', 0.1743770555905042], ['Vango', 0.172350563436037], ['Trifacta', 0.1718166150772973], ['Iterable', 0.17150384894671064], ['Sourcery Technologies', 0.16870401416934117], ['Immunity Project', 0.16759176585598526], ['Rock Health', 0.16431769033509463], ['Wove', 0.16371992428534318], ['Capillary Technologies', 0.16254711296314492], ['EAT Club', 0.15889909134480681], ['Ooma', 0.15747958251147823], ['Brandfolder', 0.15615377057851354], ['Teespring', 0.1558328543236255], ['Moltin', 0.15349296467566778], ['Qventus', 0.15097940018503894], ['Arcus', 0.15016740927079564], ['Cleanly', 0.14746136004145757], ['Spinnakr', 0.14044401201842363], ['TrustRadius', 0.14012495675404638], ['Scalyr', 0.13633619778307723], ['Sprout Social', 0.13475171628460875], ['Xola', 0.13443008815551963], ['Pixlee', 0.1264904104380275], ['Pay By Group', 0.11771678712456093], ['Dil Mil', 0.11322135707828593], ['Scan', 0.10894694486167607], ['Leapfin', 0.10611090016936343]]\n"
     ]
    },
    {
     "data": {
      "text/plain": [
       "'for name,data in zip(names,scaled_data):\\n    print(name,data)'"
      ]
     },
     "execution_count": 22,
     "metadata": {},
     "output_type": "execute_result"
    }
   ],
   "source": [
    "print(sorted(result_list,key=lambda l:l[1],reverse=True))\n",
    "\"\"\"for name,data in zip(names,scaled_data):\n",
    "    print(name,data)\"\"\""
   ]
  },
  {
   "cell_type": "code",
   "execution_count": 231,
   "metadata": {},
   "outputs": [],
   "source": [
    "with open('D:\\\\cmpe256\\\\Team project\\\\results\\\\startups.csv','w',newline='') as file1:\n",
    "    writer = csv.writer(file1)\n",
    "    for row in result_list:\n",
    "        writer.writerow([row[0]])\n",
    "file1.close()\n",
    "\n",
    "with open('D:\\\\cmpe256\\\\Team project\\\\results\\\\predicted_unicorns.csv','w',newline='') as file1:\n",
    "    writer = csv.writer(file1)\n",
    "    sorted_list = sorted(result_list,key=lambda l:l[1],reverse=True)\n",
    "    count = 5\n",
    "    for row in sorted_list:\n",
    "        writer.writerow([row[0]])\n",
    "        count-=1\n",
    "        if count == 0:\n",
    "            break\n",
    "file1.close()"
   ]
  },
  {
   "cell_type": "code",
   "execution_count": 25,
   "metadata": {
    "scrolled": false
   },
   "outputs": [
    {
     "name": "stdout",
     "output_type": "stream",
     "text": [
      "128\n",
      "['STILT', 1.008625959571221]\n",
      "['MaestroQA', 0.8038436766921764]\n",
      "['Medium', 0.7735594160440766]\n",
      "['SolveBio', 0.704387005560632]\n",
      "['Chai', 0.7006141491943867]\n",
      "['SupplyFrame', 0.6781731402064519]\n",
      "['Blokable', 0.6498224217121641]\n",
      "['Crunchyroll', 0.618465486880035]\n",
      "['Bright', 0.6151271611470442]\n",
      "['Zymergen', 0.6026639897023525]\n",
      "['Maestro', 0.5782705556084141]\n",
      "['Formlabs', 0.5678443891554801]\n",
      "['TransferWise', 0.5555708918640171]\n",
      "['ID.me', 0.48666768728450815]\n",
      "['Tinder', 0.4677954525403571]\n",
      "['Retention Science', 0.4516399094225045]\n",
      "['Blockstream', 0.4492432073700591]\n",
      "['Hologram', 0.44801188250724]\n",
      "['ClassDojo', 0.4237461701771803]\n",
      "['Hammerhead', 0.42239534270557894]\n",
      "['Mason', 0.41975722051741976]\n",
      "['Nearpod', 0.4095030241416303]\n",
      "['PeerStreet', 0.4010420724037284]\n",
      "['Shyp', 0.3855010690335202]\n",
      "['Munchery', 0.38046656109049826]\n",
      "['Drop', 0.37600837505891765]\n",
      "['Blockstack', 0.3716287918291885]\n",
      "['Breather', 0.35292252396733587]\n",
      "['Mark43', 0.34570879188825704]\n",
      "['Metromile', 0.3390738364737345]\n",
      "['StyleSeat', 0.33589635408309587]\n",
      "['Popular Pays', 0.33553804830847156]\n",
      "['Airware', 0.3226813815101765]\n",
      "['Designlab', 0.3203820465316423]\n",
      "['Outline', 0.31931573368995064]\n",
      "['Clutch Prep', 0.3188081394110437]\n",
      "['Sprig', 0.31282097956886823]\n",
      "['Catchafire', 0.3072210948333281]\n",
      "['FocusMotion', 0.3071101040674064]\n",
      "['Poll Everywhere', 0.3055943744748229]\n",
      "['UpOut', 0.3031388393941597]\n",
      "['DuckDuckGo', 0.2966476362505473]\n",
      "['uBiome', 0.29600903725259337]\n",
      "['Parachute Home', 0.28632577784854213]\n",
      "['Upcall', 0.2760408586527485]\n",
      "['Handle', 0.26786890537153696]\n",
      "['Binded', 0.26614317204243787]\n",
      "['MightyText', 0.2651788659315661]\n",
      "['Brandwatch', 0.2650303460743939]\n",
      "['vidIQ', 0.26404449208421865]\n",
      "['EVERFI', 0.2617867181490578]\n",
      "['Philz Coffee', 0.26051672369341955]\n",
      "['Fooda', 0.25993207374534905]\n",
      "['SketchDeck', 0.2596448014049627]\n",
      "['Zanbato', 0.25407727149518183]\n",
      "['Accredible', 0.2531876806835692]\n",
      "['Arthena', 0.2508382921276156]\n",
      "['Rise', 0.24950548948284165]\n",
      "['xendit', 0.24457254417474114]\n",
      "['AptDeco', 0.24370852701862303]\n",
      "['Soothe', 0.2425837495718645]\n",
      "['dataxu', 0.24090745220655088]\n",
      "['Ripple', 0.23941344413968726]\n",
      "['Unified', 0.23828881087708334]\n",
      "['SmartRecruiters', 0.2373071104886847]\n",
      "['Yext', 0.2352976042480174]\n",
      "['Lark', 0.2327393264212922]\n",
      "['Phunware, Inc.', 0.2313013731773826]\n",
      "['ZeroCater', 0.22752766959918663]\n",
      "['Splitwise', 0.22734009015678533]\n",
      "['GAIN Fitness', 0.22588766886462927]\n",
      "['Joist', 0.22445292476545822]\n",
      "['UnifyID', 0.2230718988246219]\n",
      "['Skillshare', 0.22177996208541206]\n",
      "['StackShare', 0.22012458130643625]\n",
      "['Winc', 0.2186024642459337]\n",
      "['Dealflicks', 0.20987468640653928]\n",
      "['SalesLoft', 0.20845572286202677]\n",
      "['Shippo', 0.20429411123062843]\n",
      "['Sunshine', 0.20165234901277265]\n",
      "['App Annie', 0.20138673992454156]\n",
      "['OneSignal', 0.19940049233132512]\n",
      "['Cover', 0.19574356140342886]\n",
      "['ThirdLove', 0.19454765720099582]\n",
      "['Chewse', 0.1928272082222009]\n",
      "['Checkbook', 0.19166572081543523]\n",
      "['CARD.com', 0.19004554677797308]\n",
      "['Striiv', 0.18888237106261188]\n",
      "['Gainsight', 0.18806871416737958]\n",
      "['ALOHA', 0.18805961615000816]\n",
      "['Converge', 0.18780090092493038]\n",
      "['Salsify', 0.1868628485295267]\n",
      "['Nitrous', 0.1862116727806795]\n",
      "['Hint Health', 0.18599398331204545]\n",
      "['Onfleet', 0.18304713165775024]\n",
      "['Sensor Tower', 0.1812572136204115]\n",
      "['The Ticket Fairy', 0.17988516263633106]\n",
      "['Trulioo', 0.17801518018387089]\n",
      "['Fieldwire', 0.17735977812448908]\n",
      "['Trackin', 0.17534652505537177]\n",
      "['Goldbelly', 0.1753423599201299]\n",
      "['Intercom', 0.1743770555905042]\n",
      "['Vango', 0.172350563436037]\n",
      "['Trifacta', 0.1718166150772973]\n",
      "['Iterable', 0.17150384894671064]\n",
      "['Sourcery Technologies', 0.16870401416934117]\n",
      "['Immunity Project', 0.16759176585598526]\n",
      "['Rock Health', 0.16431769033509463]\n",
      "['Wove', 0.16371992428534318]\n",
      "['Capillary Technologies', 0.16254711296314492]\n",
      "['EAT Club', 0.15889909134480681]\n",
      "['Ooma', 0.15747958251147823]\n",
      "['Brandfolder', 0.15615377057851354]\n",
      "['Teespring', 0.1558328543236255]\n",
      "['Moltin', 0.15349296467566778]\n",
      "['Qventus', 0.15097940018503894]\n",
      "['Arcus', 0.15016740927079564]\n",
      "['Cleanly', 0.14746136004145757]\n",
      "['Spinnakr', 0.14044401201842363]\n",
      "['TrustRadius', 0.14012495675404638]\n",
      "['Scalyr', 0.13633619778307723]\n",
      "['Sprout Social', 0.13475171628460875]\n",
      "['Xola', 0.13443008815551963]\n",
      "['Pixlee', 0.1264904104380275]\n",
      "['Pay By Group', 0.11771678712456093]\n",
      "['Dil Mil', 0.11322135707828593]\n",
      "['Scan', 0.10894694486167607]\n",
      "['Leapfin', 0.10611090016936343]\n"
     ]
    }
   ],
   "source": [
    "print(len(result_list))\n",
    "unicorn_index = sorted(result_list,key=lambda l:l[1],reverse=True)\n",
    "for startup in unicorn_index:\n",
    "    print(startup)"
   ]
  }
 ],
 "metadata": {
  "kernelspec": {
   "display_name": "Python 3",
   "language": "python",
   "name": "python3"
  },
  "language_info": {
   "codemirror_mode": {
    "name": "ipython",
    "version": 3
   },
   "file_extension": ".py",
   "mimetype": "text/x-python",
   "name": "python",
   "nbconvert_exporter": "python",
   "pygments_lexer": "ipython3",
   "version": "3.7.1"
  }
 },
 "nbformat": 4,
 "nbformat_minor": 2
}
